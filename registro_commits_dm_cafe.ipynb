{
 "cells": [
  {
   "cell_type": "code",
   "execution_count": 1,
   "metadata": {},
   "outputs": [
    {
     "data": {
      "text/html": [
       "        <script type=\"text/javascript\">\n",
       "        window.PlotlyConfig = {MathJaxConfig: 'local'};\n",
       "        if (window.MathJax && window.MathJax.Hub && window.MathJax.Hub.Config) {window.MathJax.Hub.Config({SVG: {font: \"STIX-Web\"}});}\n",
       "        if (typeof require !== 'undefined') {\n",
       "        require.undef(\"plotly\");\n",
       "        requirejs.config({\n",
       "            paths: {\n",
       "                'plotly': ['https://cdn.plot.ly/plotly-2.18.2.min']\n",
       "            }\n",
       "        });\n",
       "        require(['plotly'], function(Plotly) {\n",
       "            window._Plotly = Plotly;\n",
       "        });\n",
       "        }\n",
       "        </script>\n",
       "        "
      ]
     },
     "metadata": {},
     "output_type": "display_data"
    }
   ],
   "source": [
    "from IPython import display\n",
    "\n",
    "import pandas as pd\n",
    "import numpy as np\n",
    "import matplotlib.pyplot as plt\n",
    "# import seaborn as sns; sns.set()\n",
    "import datetime\n",
    "import nbformat\n",
    "import plotly.express as px\n",
    "from plotly.offline import download_plotlyjs, init_notebook_mode, plot, iplot\n",
    "init_notebook_mode (connected = True )\n",
    "import plotly.graph_objs as go\n",
    "import plotly.offline as py\n",
    "from matplotlib.backends.backend_pdf import PdfPages\n",
    "from fpdf import FPDF\n",
    "pd.options.display.max_columns = None\n",
    "pd.options.display.max_rows = None\n",
    "import locale\n",
    "import plotly.io as pio\n",
    "from datetime import date\n",
    "import calendar\n",
    "import pytz"
   ]
  },
  {
   "cell_type": "code",
   "execution_count": 2,
   "metadata": {},
   "outputs": [],
   "source": [
    "# 1) git log --pretty=format:%cI,%h,%an,%ae,%s > /home/claudio/@LCTM/commits_LCTM.csv\n",
    "# 2) abrir excel e e na aba dados, importar o arquivo gerado pelo código acima\n"
   ]
  },
  {
   "cell_type": "code",
   "execution_count": 2,
   "metadata": {},
   "outputs": [
    {
     "data": {
      "text/plain": [
       "'pt_BR.utf-8'"
      ]
     },
     "execution_count": 2,
     "metadata": {},
     "output_type": "execute_result"
    }
   ],
   "source": [
    "# setar locale para português para que os dias da semana retornem em portugês no código abaixo.\n",
    "locale.setlocale(locale.LC_ALL, 'pt_BR.utf-8')"
   ]
  },
  {
   "cell_type": "code",
   "execution_count": 3,
   "metadata": {},
   "outputs": [],
   "source": [
    "\n",
    "commits_lctm_df = pd.read_csv(r'/home/claudio/@LCTM/commits_LCTM.csv', header=None, encoding=\"ISO-8859-1\", sep = ',')"
   ]
  },
  {
   "cell_type": "code",
   "execution_count": 4,
   "metadata": {},
   "outputs": [],
   "source": [
    "# Crie um novo DataFrame com a linha de cabeçalhos desejada\n",
    "header_data = {0: 'horario',\n",
    "               1: 'git_key',\n",
    "               2: 'autor',\n",
    "               3: 'email_autor',\n",
    "               4: 'git_text'}\n",
    "\n",
    "# Combine os DataFrames\n",
    "commits_lctm_df.rename(columns=header_data, inplace=True)\n"
   ]
  },
  {
   "cell_type": "code",
   "execution_count": 5,
   "metadata": {},
   "outputs": [],
   "source": [
    "# com assitência do CHATGPT\n",
    "\n",
    "commits_lctm_df.drop('autor', axis= 1, inplace= True)\n",
    "commits_lctm_df.drop('email_autor', axis=1, inplace= True)"
   ]
  },
  {
   "cell_type": "code",
   "execution_count": 6,
   "metadata": {},
   "outputs": [],
   "source": [
    "commits_lctm_df.drop(commits_lctm_df[commits_lctm_df['horario'] == '2023-04-14T10:19:39-03:00'].index, inplace = True )"
   ]
  },
  {
   "cell_type": "code",
   "execution_count": 7,
   "metadata": {},
   "outputs": [],
   "source": [
    "#To select rows whose column value is in an iterable array, which we'll define as array\n",
    "\n",
    "\n",
    "array = ['end', 'start']\n",
    "commits_lctm_filtered = commits_lctm_df.loc[commits_lctm_df.git_text.isin(array)].copy()\n",
    "# using th e copy method to avoid the \"SettingWithCopyWarning:\n",
    "\n",
    "## Fixing the warning on the code above\n",
    "# 3 Ways to Deal With SettingWithCopyWarning in Python - \n",
    "# read://https_www.analyticsvidhya.com/?url=https%3A%2F%2Fwww.analyticsvidhya.com%2Fblog%2F2021%2F11%2F3-ways-to-deal-with-settingwithcopywarning-in-pandas%2F\n",
    "\n"
   ]
  },
  {
   "cell_type": "code",
   "execution_count": 8,
   "metadata": {},
   "outputs": [],
   "source": [
    "# Fixing the warning on the code above\n",
    "# 3 Ways to Deal With SettingWithCopyWarning in Python - read://https_www.analyticsvidhya.com/?url=https%3A%2F%2Fwww.analyticsvidhya.com%2Fblog%2F2021%2F11%2F3-ways-to-deal-with-settingwithcopywarning-in-pandas%2F\n",
    "\n",
    "commits_lctm_filtered.loc[commits_lctm_filtered.horario == '2023-04-17T16:51:36-03:00', 'git_text'] = \"start\"\n"
   ]
  },
  {
   "cell_type": "code",
   "execution_count": 9,
   "metadata": {},
   "outputs": [],
   "source": [
    "# Convert the 'horario' column to datetime objects\n",
    "\n",
    "commits_lctm_filtered['horario']=pd.to_datetime(commits_lctm_filtered['horario'], format='%Y-%m-%dT%H:%M:%S%z')"
   ]
  },
  {
   "cell_type": "code",
   "execution_count": 10,
   "metadata": {},
   "outputs": [],
   "source": [
    "# Remove timezone information\n",
    "\n",
    "commits_lctm_filtered['horario'] = commits_lctm_filtered['horario'].dt.tz_localize(None)"
   ]
  },
  {
   "cell_type": "code",
   "execution_count": 11,
   "metadata": {},
   "outputs": [],
   "source": [
    "commits_lctm_filtered.sort_values(by='horario', inplace=True)"
   ]
  },
  {
   "cell_type": "code",
   "execution_count": 12,
   "metadata": {},
   "outputs": [],
   "source": [
    "# Initialize an empty list to store the pairs\n",
    "pairs = []\n",
    "\n",
    "# Initialize the temporary 'start' and 'end' variables\n",
    "start = None\n",
    "end = None\n",
    "\n",
    "# Iterate through the rows of the DataFrame\n",
    "for _, row in commits_lctm_filtered.iterrows():\n",
    "    if row['git_text'] == 'start':\n",
    "        start = row\n",
    "    elif row['git_text'] == 'end':\n",
    "        end = row\n",
    "\n",
    "    # If both 'start' and 'end' are found, create a pair and reset the temporary variables\n",
    "    if start is not None and end is not None:\n",
    "        pairs.append({'start_time': start['horario'], 'start_key': start['git_key'], 'end_time': end['horario'], 'end_key': end['git_key']})\n",
    "        start = None\n",
    "        end = None\n",
    "\n",
    "# Create a new DataFrame using the pairs list\n",
    "horas_trab_lctm = pd.DataFrame(pairs)\n"
   ]
  },
  {
   "cell_type": "code",
   "execution_count": 13,
   "metadata": {},
   "outputs": [],
   "source": [
    "horas_trab_lctm['dif_time']= horas_trab_lctm['end_time'] - horas_trab_lctm['start_time']"
   ]
  },
  {
   "cell_type": "code",
   "execution_count": 14,
   "metadata": {},
   "outputs": [
    {
     "name": "stdout",
     "output_type": "stream",
     "text": [
      "Total de horas trabalhadas no LCTM foi: 2 days 09:21:35\n"
     ]
    }
   ],
   "source": [
    "# Calculate the sum of the 'dif_time' column\n",
    "total_dif_time = horas_trab_lctm['dif_time'].sum()\n",
    "\n",
    "# Print the sum\n",
    "print(\"Total de horas trabalhadas no LCTM foi:\", total_dif_time)"
   ]
  },
  {
   "attachments": {},
   "cell_type": "markdown",
   "metadata": {},
   "source": [
    "# 57,36 horas"
   ]
  },
  {
   "attachments": {},
   "cell_type": "markdown",
   "metadata": {},
   "source": [
    "git log --pretty=format:%cI,%h,%an,%ae,%s > /home/claudio/@LCTM/commits_LCTM.csv\n"
   ]
  },
  {
   "attachments": {},
   "cell_type": "markdown",
   "metadata": {},
   "source": [
    " git commit --allow-empty -m \"start\"\n",
    " \n",
    "  git commit --allow-empty -m \"end\""
   ]
  }
 ],
 "metadata": {
  "kernelspec": {
   "display_name": "Python 3",
   "language": "python",
   "name": "python3"
  },
  "language_info": {
   "codemirror_mode": {
    "name": "ipython",
    "version": 3
   },
   "file_extension": ".py",
   "mimetype": "text/x-python",
   "name": "python",
   "nbconvert_exporter": "python",
   "pygments_lexer": "ipython3",
   "version": "3.10.6"
  },
  "orig_nbformat": 4
 },
 "nbformat": 4,
 "nbformat_minor": 2
}
